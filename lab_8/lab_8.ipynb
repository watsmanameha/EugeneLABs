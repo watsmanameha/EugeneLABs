{
 "cells": [
  {
   "cell_type": "code",
   "execution_count": null,
   "id": "initial_id",
   "metadata": {
    "collapsed": true
   },
   "outputs": [],
   "source": []
  },
  {
   "cell_type": "code",
   "execution_count": null,
   "outputs": [],
   "source": [
    "%matplotlib notebook\n",
    "import numpy as np\n",
    "import matplotlib.pyplot as plt\n",
    "from matplotlib.animation import FuncAnimation\n",
    "\n",
    "fig = plt.figure()\n",
    "ax = plt.subplot()\n",
    "plt.plot(0, 0)\n",
    "\n",
    "t = np.linspace(-2 * np.pi, 2 * np.pi, 200)\n",
    "initial_frequency_x = 100\n",
    "initial_frequency_y = 300\n",
    "\n",
    "def animate(i):\n",
    "    if i < 500: # Если текущий кадр в первой половине анимации\n",
    "        frequency_x = initial_frequency_x + 0.01 * i # частота изменяется линейно\n",
    "        frequency_y = initial_frequency_y # частота по y = const\n",
    "    else: \n",
    "        frequency_x = initial_frequency_x + 0.01 * (1000 - i) # астота по оси x уменьшается линейно с увеличением i от 500 до 1000\n",
    "        frequency_y = initial_frequency_y\n",
    "    x = np.sin(frequency_x * t + np.pi/4)\n",
    "    y = np.sin(frequency_y * t)\n",
    "    ax.clear()\n",
    "    plt.plot(x, y, lw='5')\n",
    "    ax.set_xlabel('Время')\n",
    "    ax.set_ylabel('Амплитуда')\n",
    "\n",
    "    return fig,\n",
    "\n",
    "ani = FuncAnimation(fig, animate, frames=1000, interval=20, blit=False)"
   ],
   "metadata": {
    "collapsed": false
   },
   "id": "985f2b77770b62a8"
  }
 ],
 "metadata": {
  "kernelspec": {
   "display_name": "Python 3",
   "language": "python",
   "name": "python3"
  },
  "language_info": {
   "codemirror_mode": {
    "name": "ipython",
    "version": 2
   },
   "file_extension": ".py",
   "mimetype": "text/x-python",
   "name": "python",
   "nbconvert_exporter": "python",
   "pygments_lexer": "ipython2",
   "version": "2.7.6"
  }
 },
 "nbformat": 4,
 "nbformat_minor": 5
}
