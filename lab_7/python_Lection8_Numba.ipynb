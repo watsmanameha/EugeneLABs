{
 "cells": [
  {
   "cell_type": "markdown",
   "metadata": {},
   "source": [
    "Каким бы хорошим не был Python, есть у него проблема известная все разработчикам — скорость.\n",
    "Оценку быстродействия удобно производить с помощью модуля time. Метод time.time() возвращает число секунд, прошедших с 00:00:00 1 января 1970 года. Вычисляя разницу между конечным и начальным временем получаем время работы нашего кода."
   ]
  },
  {
   "cell_type": "code",
   "execution_count": 10,
   "metadata": {},
   "outputs": [
    {
     "name": "stdout",
     "output_type": "stream",
     "text": [
      "9.999752044677734 ms\n"
     ]
    }
   ],
   "source": [
    "import time\n",
    "start = time.time() \n",
    "sum=0\n",
    "for i in range(25000):\n",
    "    sum+=i\n",
    "end = time.time()                                          \n",
    "print((end - start)*1000, \"ms\") "
   ]
  },
  {
   "cell_type": "markdown",
   "metadata": {},
   "source": [
    "Напишем тестовую функцию, выполняющую расчет расстояния между парами точек, хранящимися в массивах P и Q."
   ]
  },
  {
   "cell_type": "code",
   "execution_count": 13,
   "metadata": {
    "collapsed": true
   },
   "outputs": [],
   "source": [
    "import numpy as np\n",
    "import math\n",
    "def get_R(p, q):\n",
    "    R = np.empty((p.shape[0], q.shape[1]))\n",
    "\n",
    "    for i in range(p.shape[0]):\n",
    "        for j in range(q.shape[1]):\n",
    "            rx = p[i, 0] - q[0, j]\n",
    "            ry = p[i, 1] - q[1, j]\n",
    "            rz = p[i, 2] - q[2, j]\n",
    "            R[i, j] = math.sqrt(rx * rx + ry * ry + rz * rz)\n",
    "\n",
    "    return R"
   ]
  },
  {
   "cell_type": "markdown",
   "metadata": {},
   "source": [
    "Напишем программу для тестирования времени работы нашей функции"
   ]
  },
  {
   "cell_type": "code",
   "execution_count": 17,
   "metadata": {},
   "outputs": [
    {
     "name": "stdout",
     "output_type": "stream",
     "text": [
      "30.00020980834961 ms\n"
     ]
    }
   ],
   "source": [
    "N=100\n",
    "a=np.zeros((N,N))\n",
    "b=np.zeros((N,N))\n",
    "\n",
    "start = time.time()                                        \n",
    "get_R(a,b)\n",
    "end = time.time()                                          \n",
    "print((end - start)*1000, \"ms\") "
   ]
  },
  {
   "cell_type": "markdown",
   "metadata": {},
   "source": [
    "Увеличим размерность массива в 10 раз"
   ]
  },
  {
   "cell_type": "code",
   "execution_count": 19,
   "metadata": {},
   "outputs": [
    {
     "name": "stdout",
     "output_type": "stream",
     "text": [
      "2240.0033473968506 ms\n"
     ]
    }
   ],
   "source": [
    "N=1000\n",
    "a=np.zeros((N,N))\n",
    "b=np.zeros((N,N))\n",
    "\n",
    "start = time.time()                                        \n",
    "get_R(a,b)\n",
    "end = time.time()                                          \n",
    "print((end - start)*1000, \"ms\") "
   ]
  },
  {
   "cell_type": "markdown",
   "metadata": {},
   "source": [
    "И увидим, что время работы пропорционально квадрату N. То есть при N равном 10000, время счета составит 200 секунд."
   ]
  },
  {
   "cell_type": "markdown",
   "metadata": {},
   "source": [
    "Попробуем воспользоваться средствами библиотеки Numpy"
   ]
  },
  {
   "cell_type": "code",
   "execution_count": 21,
   "metadata": {
    "collapsed": true
   },
   "outputs": [],
   "source": [
    "def get_R_numpy(p, q):\n",
    "    Rx = p[:, 0:1] - q[0:1]\n",
    "    Ry = p[:, 1:2] - q[1:2]\n",
    "    Rz = p[:, 2:3] - q[2:3]\n",
    "    R = 1 / (1 + np.sqrt(Rx * Rx + Ry * Ry + Rz * Rz))\n",
    "    return R"
   ]
  },
  {
   "cell_type": "code",
   "execution_count": 53,
   "metadata": {},
   "outputs": [
    {
     "name": "stdout",
     "output_type": "stream",
     "text": [
      "50.00019073486328 ms\n"
     ]
    }
   ],
   "source": [
    "N=1000\n",
    "a=np.zeros((N,N))\n",
    "b=np.zeros((N,N))\n",
    "\n",
    "start = time.time()                                        \n",
    "get_R_numpy(a,b)\n",
    "end = time.time()                                          \n",
    "print((end - start)*1000, \"ms\") "
   ]
  },
  {
   "cell_type": "markdown",
   "metadata": {},
   "source": [
    "Уже лучше, но еще не очень хорошо. Попробуем восспользоваться библиотекой Numba.\n",
    "Для начала, попробуем решить задачу \"в лоб\". То есть просто укажем, что необходимо скомпилировать функцию целиком."
   ]
  },
  {
   "cell_type": "code",
   "execution_count": 54,
   "metadata": {
    "collapsed": true
   },
   "outputs": [],
   "source": [
    "import numba     "
   ]
  },
  {
   "cell_type": "code",
   "execution_count": 55,
   "metadata": {},
   "outputs": [],
   "source": [
    "@numba.jit(nopython=True)\n",
    "def get_R_numba_simble(p, q):\n",
    "    R = np.empty((p.shape[0], q.shape[1]))\n",
    "\n",
    "    for i in range(p.shape[0]):\n",
    "        for j in range(q.shape[1]):\n",
    "            rx = p[i, 0] - q[0, j]\n",
    "            ry = p[i, 1] - q[1, j]\n",
    "            rz = p[i, 2] - q[2, j]\n",
    "\n",
    "            R[i, j] = 1 / (1 + math.sqrt(rx * rx + ry * ry + rz * rz))\n",
    "\n",
    "    return R"
   ]
  },
  {
   "cell_type": "code",
   "execution_count": 56,
   "metadata": {},
   "outputs": [
    {
     "name": "stdout",
     "output_type": "stream",
     "text": [
      "170.0000762939453 ms\n"
     ]
    }
   ],
   "source": [
    "N=1000\n",
    "a=np.zeros((N,N))\n",
    "b=np.zeros((N,N))\n",
    "\n",
    "start = time.time()                                        \n",
    "get_R_numba_simble(a,b)\n",
    "end = time.time()                                          \n",
    "print((end - start)*1000, \"ms\") "
   ]
  },
  {
   "cell_type": "markdown",
   "metadata": {},
   "source": [
    "Получилось неплохо, но можно еще лучше, если явно указать тип для возвращаемого значения и параметров функции."
   ]
  },
  {
   "cell_type": "code",
   "execution_count": 48,
   "metadata": {},
   "outputs": [],
   "source": [
    "@numba.jit(numba.float64[:, :] (numba.float64[:, :], numba.float64[:, :]), nopython=True)\n",
    "def get_R_numba_mp(p, q):\n",
    "    R = np.empty((p.shape[0], q.shape[1]))\n",
    "\n",
    "    for i in range(p.shape[0]):\n",
    "        for j in range(q.shape[1]):\n",
    "            rx = p[i, 0] - q[0, j]\n",
    "            ry = p[i, 1] - q[1, j]\n",
    "            rz = p[i, 2] - q[2, j]\n",
    "\n",
    "            R[i, j] = 1 / (1 + math.sqrt(rx * rx + ry * ry + rz * rz))\n",
    "\n",
    "    return R"
   ]
  },
  {
   "cell_type": "code",
   "execution_count": 49,
   "metadata": {},
   "outputs": [
    {
     "name": "stdout",
     "output_type": "stream",
     "text": [
      "10.000228881835938 ms\n"
     ]
    }
   ],
   "source": [
    "N=1000\n",
    "a=np.zeros((N,N))\n",
    "b=np.zeros((N,N))\n",
    "\n",
    "start = time.time()                                        \n",
    "get_R_numba_mp(a,b)\n",
    "end = time.time()                                          \n",
    "print((end - start)*1000, \"ms\") "
   ]
  },
  {
   "cell_type": "markdown",
   "metadata": {},
   "source": [
    "И, наконец, добавим возможность считать внешний цикл параллельно. Для этого используем флаг parallel=True, и внешний цикл for i in numba.prange вместо for i in range"
   ]
  },
  {
   "cell_type": "code",
   "execution_count": null,
   "metadata": {
    "collapsed": true
   },
   "outputs": [],
   "source": [
    "@numba.jit(numba.float64[:, :] (numba.float64[:, :], numba.float64[:, :]), nopython=True, parallel=True)\n",
    "def get_R_numba_mp(p, q):\n",
    "    R = np.empty((p.shape[0], q.shape[1]))\n",
    "\n",
    "    for i in numba.prange(p.shape[0]):\n",
    "        for j in range(q.shape[1]):\n",
    "            rx = p[i, 0] - q[0, j]\n",
    "            ry = p[i, 1] - q[1, j]\n",
    "            rz = p[i, 2] - q[2, j]\n",
    "\n",
    "            R[i, j] = 1 / (1 + math.sqrt(rx * rx + ry * ry + rz * rz))\n",
    "\n",
    "    return R"
   ]
  },
  {
   "cell_type": "markdown",
   "metadata": {},
   "source": [
    "Последний вариант не будет запускаться на старых 32-разрядных операционных системах."
   ]
  },
  {
   "cell_type": "markdown",
   "metadata": {},
   "source": [
    "Итак, мы имеем быстродействие, сравнимое с большинством компиляторных языков, таких как C++, при сохранении синтаксиса языка Python. Конечно такая программа будет медленнее запускаться, поскольку компиляция кода, фактически, происходит при каждом запуске."
   ]
  }
 ],
 "metadata": {
  "kernelspec": {
   "display_name": "Python 3",
   "language": "python",
   "name": "python3"
  },
  "language_info": {
   "codemirror_mode": {
    "name": "ipython",
    "version": 3
   },
   "file_extension": ".py",
   "mimetype": "text/x-python",
   "name": "python",
   "nbconvert_exporter": "python",
   "pygments_lexer": "ipython3",
   "version": "3.6.3"
  }
 },
 "nbformat": 4,
 "nbformat_minor": 2
}
